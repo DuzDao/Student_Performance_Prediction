{
 "cells": [
  {
   "cell_type": "code",
   "execution_count": 2,
   "metadata": {},
   "outputs": [],
   "source": [
    "from sklearn.preprocessing import OrdinalEncoder,OneHotEncoder\n",
    "\n",
    "def preprocess(df,column,dropped):\n",
    "    UNIQUE_VALUES=2\n",
    "    encoders={}\n",
    "\n",
    "    one_hot=OneHotEncoder()\n",
    "\n",
    "    ord_enc=OrdinalEncoder()\n",
    "\n",
    "    for _,col in enumerate(column):\n",
    "        if df[col].nunique()==UNIQUE_VALUES:\n",
    "            encoders[\"encoder\"+str(_)]=one_hot.fit_transform(df[[col]]).toarray()\n",
    "        else:\n",
    "            encoders[\"encoder\"+str(_)]=ord_enc.fit_transform(df[[col]])\n",
    "        df[col]=encoders[\"encoder\"+str(_)]\n",
    "\n",
    "    df.drop(columns=dropped,inplace=True)\n",
    "    return df"
   ]
  }
 ],
 "metadata": {
  "kernelspec": {
   "display_name": "Python 3",
   "language": "python",
   "name": "python3"
  },
  "language_info": {
   "codemirror_mode": {
    "name": "ipython",
    "version": 3
   },
   "file_extension": ".py",
   "mimetype": "text/x-python",
   "name": "python",
   "nbconvert_exporter": "python",
   "pygments_lexer": "ipython3",
   "version": "3.10.9"
  },
  "orig_nbformat": 4
 },
 "nbformat": 4,
 "nbformat_minor": 2
}
